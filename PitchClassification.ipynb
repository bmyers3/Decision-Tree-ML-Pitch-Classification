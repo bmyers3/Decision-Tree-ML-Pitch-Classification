{
  "nbformat": 4,
  "nbformat_minor": 0,
  "metadata": {
    "colab": {
      "name": "PitchClassification.ipynb",
      "provenance": [],
      "collapsed_sections": []
    },
    "kernelspec": {
      "name": "python3",
      "display_name": "Python 3"
    },
    "language_info": {
      "name": "python"
    }
  },
  "cells": [
    {
      "cell_type": "code",
      "execution_count": 1,
      "metadata": {
        "colab": {
          "base_uri": "https://localhost:8080/"
        },
        "id": "WNOQll4E5pDJ",
        "outputId": "d0beb64b-b2f7-4019-e12f-f935a4eff9c0"
      },
      "outputs": [
        {
          "output_type": "stream",
          "name": "stdout",
          "text": [
            "Looking in indexes: https://pypi.org/simple, https://us-python.pkg.dev/colab-wheels/public/simple/\n",
            "Collecting pybaseball\n",
            "  Downloading pybaseball-2.2.1-py3-none-any.whl (415 kB)\n",
            "\u001b[K     |████████████████████████████████| 415 kB 11.9 MB/s \n",
            "\u001b[?25hCollecting pygithub>=1.51\n",
            "  Downloading PyGithub-1.55-py3-none-any.whl (291 kB)\n",
            "\u001b[K     |████████████████████████████████| 291 kB 40.4 MB/s \n",
            "\u001b[?25hRequirement already satisfied: pandas>=1.0.3 in /usr/local/lib/python3.7/dist-packages (from pybaseball) (1.3.5)\n",
            "Requirement already satisfied: attrs>=20.3.0 in /usr/local/lib/python3.7/dist-packages (from pybaseball) (21.4.0)\n",
            "Requirement already satisfied: tqdm>=4.50.0 in /usr/local/lib/python3.7/dist-packages (from pybaseball) (4.64.0)\n",
            "Requirement already satisfied: requests>=2.18.1 in /usr/local/lib/python3.7/dist-packages (from pybaseball) (2.23.0)\n",
            "Requirement already satisfied: lxml>=4.2.1 in /usr/local/lib/python3.7/dist-packages (from pybaseball) (4.2.6)\n",
            "Requirement already satisfied: pyarrow>=1.0.1 in /usr/local/lib/python3.7/dist-packages (from pybaseball) (6.0.1)\n",
            "Requirement already satisfied: matplotlib>=2.0.0 in /usr/local/lib/python3.7/dist-packages (from pybaseball) (3.2.2)\n",
            "Requirement already satisfied: beautifulsoup4>=4.4.0 in /usr/local/lib/python3.7/dist-packages (from pybaseball) (4.6.3)\n",
            "Requirement already satisfied: numpy>=1.13.0 in /usr/local/lib/python3.7/dist-packages (from pybaseball) (1.21.6)\n",
            "Requirement already satisfied: scipy>=1.4.0 in /usr/local/lib/python3.7/dist-packages (from pybaseball) (1.4.1)\n",
            "Requirement already satisfied: python-dateutil>=2.1 in /usr/local/lib/python3.7/dist-packages (from matplotlib>=2.0.0->pybaseball) (2.8.2)\n",
            "Requirement already satisfied: cycler>=0.10 in /usr/local/lib/python3.7/dist-packages (from matplotlib>=2.0.0->pybaseball) (0.11.0)\n",
            "Requirement already satisfied: kiwisolver>=1.0.1 in /usr/local/lib/python3.7/dist-packages (from matplotlib>=2.0.0->pybaseball) (1.4.2)\n",
            "Requirement already satisfied: pyparsing!=2.0.4,!=2.1.2,!=2.1.6,>=2.0.1 in /usr/local/lib/python3.7/dist-packages (from matplotlib>=2.0.0->pybaseball) (3.0.9)\n",
            "Requirement already satisfied: typing-extensions in /usr/local/lib/python3.7/dist-packages (from kiwisolver>=1.0.1->matplotlib>=2.0.0->pybaseball) (4.2.0)\n",
            "Requirement already satisfied: pytz>=2017.3 in /usr/local/lib/python3.7/dist-packages (from pandas>=1.0.3->pybaseball) (2022.1)\n",
            "Collecting deprecated\n",
            "  Downloading Deprecated-1.2.13-py2.py3-none-any.whl (9.6 kB)\n",
            "Collecting pyjwt>=2.0\n",
            "  Downloading PyJWT-2.4.0-py3-none-any.whl (18 kB)\n",
            "Collecting pynacl>=1.4.0\n",
            "  Downloading PyNaCl-1.5.0-cp36-abi3-manylinux_2_17_x86_64.manylinux2014_x86_64.manylinux_2_24_x86_64.whl (856 kB)\n",
            "\u001b[K     |████████████████████████████████| 856 kB 28.1 MB/s \n",
            "\u001b[?25hRequirement already satisfied: cffi>=1.4.1 in /usr/local/lib/python3.7/dist-packages (from pynacl>=1.4.0->pygithub>=1.51->pybaseball) (1.15.0)\n",
            "Requirement already satisfied: pycparser in /usr/local/lib/python3.7/dist-packages (from cffi>=1.4.1->pynacl>=1.4.0->pygithub>=1.51->pybaseball) (2.21)\n",
            "Requirement already satisfied: six>=1.5 in /usr/local/lib/python3.7/dist-packages (from python-dateutil>=2.1->matplotlib>=2.0.0->pybaseball) (1.15.0)\n",
            "Requirement already satisfied: chardet<4,>=3.0.2 in /usr/local/lib/python3.7/dist-packages (from requests>=2.18.1->pybaseball) (3.0.4)\n",
            "Requirement already satisfied: idna<3,>=2.5 in /usr/local/lib/python3.7/dist-packages (from requests>=2.18.1->pybaseball) (2.10)\n",
            "Requirement already satisfied: urllib3!=1.25.0,!=1.25.1,<1.26,>=1.21.1 in /usr/local/lib/python3.7/dist-packages (from requests>=2.18.1->pybaseball) (1.24.3)\n",
            "Requirement already satisfied: certifi>=2017.4.17 in /usr/local/lib/python3.7/dist-packages (from requests>=2.18.1->pybaseball) (2022.5.18.1)\n",
            "Requirement already satisfied: wrapt<2,>=1.10 in /usr/local/lib/python3.7/dist-packages (from deprecated->pygithub>=1.51->pybaseball) (1.14.1)\n",
            "Installing collected packages: pynacl, pyjwt, deprecated, pygithub, pybaseball\n",
            "Successfully installed deprecated-1.2.13 pybaseball-2.2.1 pygithub-1.55 pyjwt-2.4.0 pynacl-1.5.0\n",
            "This is a large query, it may take a moment to complete\n"
          ]
        },
        {
          "output_type": "stream",
          "name": "stderr",
          "text": [
            "100%|██████████| 31/31 [00:48<00:00,  1.56s/it]\n"
          ]
        },
        {
          "output_type": "stream",
          "name": "stdout",
          "text": [
            "Our Dataset has 122689 Pitches\n"
          ]
        }
      ],
      "source": [
        "!pip install pybaseball\n",
        "\n",
        "# General Packages\n",
        "import numpy as np\n",
        "import pandas as pd\n",
        "import pybaseball as pyb\n",
        "import seaborn as sns\n",
        "\n",
        "# Machine Learning\n",
        "from sklearn.model_selection import train_test_split\n",
        "from sklearn import tree\n",
        "from sklearn.metrics import accuracy_score\n",
        "from sklearn.metrics import classification_report\n",
        "\n",
        "import warnings\n",
        "warnings.filterwarnings('ignore')\n",
        "\n",
        "pitches = pyb.statcast('2018-06-01', '2018-07-01')\n",
        "\n",
        "print('Our Dataset has {0} Pitches'.format(len(pitches)))"
      ]
    },
    {
      "cell_type": "code",
      "source": [
        "def decision_tree(data,fastball_group):\n",
        "    data = data.loc[:,['pitch_name',\n",
        "                       'release_speed',\n",
        "                       'release_spin_rate',\n",
        "                       'vx0','vy0','vz0',\n",
        "                       'ax','ay','az']]\n",
        "    \n",
        "    data = data.dropna()\n",
        "    \n",
        "    def pitch_filter(x):\n",
        "        if x=='2-Seam Fastball' or x=='4-Seam Fastball' or x=='Sinker':\n",
        "            return 'Fastball_group'\n",
        "        return x\n",
        "    \n",
        "    if fastball_group == True:\n",
        "        data['pitch_name'] = data['pitch_name'].apply(pitch_filter)\n",
        "    \n",
        "    X = data.loc[:,['release_speed','vx0','vy0','vz0','ax','ay','az','release_spin_rate']]\n",
        "    y = data.loc[:,['pitch_name']]\n",
        "    \n",
        "    X_train, X_test, y_train, y_test = train_test_split(X, y, test_size=0.2, random_state=8)\n",
        "    \n",
        "    dt_model = tree.DecisionTreeClassifier(max_depth=10, min_samples_split=50)\n",
        "    \n",
        "    dt_model.fit(X_train, y_train)\n",
        "    \n",
        "    predictions = dt_model.predict(X_train)\n",
        "    print('Training Score Accuracy {0}'.format(accuracy_score(predictions, y_train)))\n",
        "    \n",
        "    predictions = dt_model.predict(X_test)\n",
        "    print('Test Score Accuracy {0}'.format(accuracy_score(predictions, y_test)))\n",
        "    \n",
        "    print(classification_report(predictions, y_test))"
      ],
      "metadata": {
        "id": "w-ge6ki8HSXA"
      },
      "execution_count": 2,
      "outputs": []
    },
    {
      "cell_type": "code",
      "source": [
        "# Data = All of MLB over a one month span\n",
        "\n",
        "decision_tree(pitches, fastball_group = False)"
      ],
      "metadata": {
        "colab": {
          "base_uri": "https://localhost:8080/"
        },
        "id": "yzekBd_PHcu6",
        "outputId": "58a39d7b-724a-4060-f171-b4369bd8846d"
      },
      "execution_count": 3,
      "outputs": [
        {
          "output_type": "stream",
          "name": "stdout",
          "text": [
            "Training Score Accuracy 0.8384943137641119\n",
            "Test Score Accuracy 0.8156825344169846\n",
            "                 precision    recall  f1-score   support\n",
            "\n",
            "4-Seam Fastball       0.91      0.90      0.90      8737\n",
            "       Changeup       0.86      0.83      0.84      2624\n",
            "      Curveball       0.72      0.75      0.73      1786\n",
            "         Cutter       0.54      0.62      0.58      1363\n",
            "         Eephus       0.67      0.44      0.53         9\n",
            "       Fastball       0.00      0.00      0.00         0\n",
            "  Knuckle Curve       0.36      0.55      0.44       460\n",
            "    Knuckleball       0.00      0.00      0.00         0\n",
            "      Pitch Out       0.00      0.00      0.00         0\n",
            "      Screwball       0.00      0.00      0.00         1\n",
            "         Sinker       0.84      0.83      0.83      4745\n",
            "         Slider       0.85      0.75      0.79      4236\n",
            "   Split-Finger       0.27      0.57      0.37       155\n",
            "\n",
            "       accuracy                           0.82     24116\n",
            "      macro avg       0.46      0.48      0.46     24116\n",
            "   weighted avg       0.83      0.82      0.82     24116\n",
            "\n"
          ]
        }
      ]
    },
    {
      "cell_type": "code",
      "source": [
        "# Data = All of MLB over a one month span\n",
        "# Treat Four-Seam, Two-Seam, and Sinker as a general fastball\n",
        "\n",
        "decision_tree(pitches, fastball_group = True)"
      ],
      "metadata": {
        "colab": {
          "base_uri": "https://localhost:8080/"
        },
        "id": "mjUM9Rd6Hgi4",
        "outputId": "d5531d07-fc20-4e7d-f377-e8b535f67513"
      },
      "execution_count": 4,
      "outputs": [
        {
          "output_type": "stream",
          "name": "stdout",
          "text": [
            "Training Score Accuracy 0.8876437109298059\n",
            "Test Score Accuracy 0.8716619671587328\n",
            "                precision    recall  f1-score   support\n",
            "\n",
            "      Changeup       0.87      0.83      0.85      2655\n",
            "     Curveball       0.75      0.75      0.75      1841\n",
            "        Cutter       0.52      0.68      0.59      1208\n",
            "        Eephus       0.67      0.44      0.53         9\n",
            "      Fastball       0.00      0.00      0.00         0\n",
            "Fastball_group       0.97      0.97      0.97     13332\n",
            " Knuckle Curve       0.39      0.57      0.46       472\n",
            "   Knuckleball       0.00      0.00      0.00         0\n",
            "     Pitch Out       0.00      0.00      0.00         0\n",
            "     Screwball       0.00      0.00      0.00         2\n",
            "        Slider       0.88      0.75      0.81      4393\n",
            "  Split-Finger       0.33      0.53      0.41       204\n",
            "\n",
            "      accuracy                           0.87     24116\n",
            "     macro avg       0.45      0.46      0.45     24116\n",
            "  weighted avg       0.88      0.87      0.88     24116\n",
            "\n"
          ]
        }
      ]
    }
  ]
}